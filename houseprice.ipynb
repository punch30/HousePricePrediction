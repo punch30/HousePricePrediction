{
 "cells": [
  {
   "cell_type": "code",
   "execution_count": 1,
   "metadata": {},
   "outputs": [],
   "source": [
    "import numpy as np\n",
    "import pandas as pd\n"
   ]
  },
  {
   "cell_type": "code",
   "execution_count": 32,
   "metadata": {},
   "outputs": [
    {
     "data": {
      "text/html": [
       "<div>\n",
       "<style scoped>\n",
       "    .dataframe tbody tr th:only-of-type {\n",
       "        vertical-align: middle;\n",
       "    }\n",
       "\n",
       "    .dataframe tbody tr th {\n",
       "        vertical-align: top;\n",
       "    }\n",
       "\n",
       "    .dataframe thead th {\n",
       "        text-align: right;\n",
       "    }\n",
       "</style>\n",
       "<table border=\"1\" class=\"dataframe\">\n",
       "  <thead>\n",
       "    <tr style=\"text-align: right;\">\n",
       "      <th></th>\n",
       "      <th>0</th>\n",
       "      <th>1</th>\n",
       "      <th>2</th>\n",
       "      <th>3</th>\n",
       "      <th>4</th>\n",
       "      <th>5</th>\n",
       "      <th>6</th>\n",
       "    </tr>\n",
       "  </thead>\n",
       "  <tbody>\n",
       "    <tr>\n",
       "      <th>count</th>\n",
       "      <td>1047.000000</td>\n",
       "      <td>1047.000000</td>\n",
       "      <td>1047.000000</td>\n",
       "      <td>1047.000000</td>\n",
       "      <td>1047.000000</td>\n",
       "      <td>1047.000000</td>\n",
       "      <td>1047.000000</td>\n",
       "    </tr>\n",
       "    <tr>\n",
       "      <th>mean</th>\n",
       "      <td>1.807303</td>\n",
       "      <td>1.918338</td>\n",
       "      <td>3.183381</td>\n",
       "      <td>0.569580</td>\n",
       "      <td>28.061127</td>\n",
       "      <td>0.593123</td>\n",
       "      <td>16.386213</td>\n",
       "    </tr>\n",
       "    <tr>\n",
       "      <th>std</th>\n",
       "      <td>0.641461</td>\n",
       "      <td>0.641735</td>\n",
       "      <td>0.750265</td>\n",
       "      <td>0.777879</td>\n",
       "      <td>34.900899</td>\n",
       "      <td>0.491486</td>\n",
       "      <td>6.765156</td>\n",
       "    </tr>\n",
       "    <tr>\n",
       "      <th>min</th>\n",
       "      <td>0.672000</td>\n",
       "      <td>1.000000</td>\n",
       "      <td>1.000000</td>\n",
       "      <td>0.000000</td>\n",
       "      <td>0.000000</td>\n",
       "      <td>0.000000</td>\n",
       "      <td>1.685800</td>\n",
       "    </tr>\n",
       "    <tr>\n",
       "      <th>25%</th>\n",
       "      <td>1.336000</td>\n",
       "      <td>1.500000</td>\n",
       "      <td>3.000000</td>\n",
       "      <td>0.210000</td>\n",
       "      <td>6.000000</td>\n",
       "      <td>0.000000</td>\n",
       "      <td>11.201400</td>\n",
       "    </tr>\n",
       "    <tr>\n",
       "      <th>50%</th>\n",
       "      <td>1.672000</td>\n",
       "      <td>2.000000</td>\n",
       "      <td>3.000000</td>\n",
       "      <td>0.390000</td>\n",
       "      <td>18.000000</td>\n",
       "      <td>1.000000</td>\n",
       "      <td>15.191700</td>\n",
       "    </tr>\n",
       "    <tr>\n",
       "      <th>75%</th>\n",
       "      <td>2.206000</td>\n",
       "      <td>2.500000</td>\n",
       "      <td>4.000000</td>\n",
       "      <td>0.600000</td>\n",
       "      <td>34.000000</td>\n",
       "      <td>1.000000</td>\n",
       "      <td>20.523500</td>\n",
       "    </tr>\n",
       "    <tr>\n",
       "      <th>max</th>\n",
       "      <td>4.534000</td>\n",
       "      <td>4.500000</td>\n",
       "      <td>6.000000</td>\n",
       "      <td>9.000000</td>\n",
       "      <td>247.000000</td>\n",
       "      <td>1.000000</td>\n",
       "      <td>44.643600</td>\n",
       "    </tr>\n",
       "  </tbody>\n",
       "</table>\n",
       "</div>"
      ],
      "text/plain": [
       "                 0            1            2            3            4  \\\n",
       "count  1047.000000  1047.000000  1047.000000  1047.000000  1047.000000   \n",
       "mean      1.807303     1.918338     3.183381     0.569580    28.061127   \n",
       "std       0.641461     0.641735     0.750265     0.777879    34.900899   \n",
       "min       0.672000     1.000000     1.000000     0.000000     0.000000   \n",
       "25%       1.336000     1.500000     3.000000     0.210000     6.000000   \n",
       "50%       1.672000     2.000000     3.000000     0.390000    18.000000   \n",
       "75%       2.206000     2.500000     4.000000     0.600000    34.000000   \n",
       "max       4.534000     4.500000     6.000000     9.000000   247.000000   \n",
       "\n",
       "                 5            6  \n",
       "count  1047.000000  1047.000000  \n",
       "mean      0.593123    16.386213  \n",
       "std       0.491486     6.765156  \n",
       "min       0.000000     1.685800  \n",
       "25%       0.000000    11.201400  \n",
       "50%       1.000000    15.191700  \n",
       "75%       1.000000    20.523500  \n",
       "max       1.000000    44.643600  "
      ]
     },
     "execution_count": 32,
     "metadata": {},
     "output_type": "execute_result"
    }
   ],
   "source": [
    "data=pd.read_csv('houseprice.csv',header=None)\n",
    "data.describe()"
   ]
  },
  {
   "cell_type": "code",
   "execution_count": 33,
   "metadata": {},
   "outputs": [],
   "source": [
    "columns=data.shape[1]\n",
    "\n",
    "total=1047\n",
    "train=int(total*0.8)\n",
    "\n",
    "#Training Data 80%\n",
    "#Test Data 20%\n",
    "\n",
    "#Input and output features of Training Data\n",
    "X=data.iloc[0:train,:-1].values\n",
    "y=data.iloc[0:train,columns-1:columns].values\n",
    "m=len(X)#Length of training data\n",
    "X=(X-X.mean())/(X.std())# Normalising the inputs\n"
   ]
  },
  {
   "cell_type": "code",
   "execution_count": 34,
   "metadata": {},
   "outputs": [],
   "source": [
    "#Input and output features of Test Data\n",
    "X1=data.iloc[train:total,:-1].values #iloc is similar to array slicing\n",
    "y1=data.iloc[train:total,columns-1:columns].values\n",
    "\n",
    "X1=(X1-X1.mean())/(X1.std())# Normalising the inputs\n",
    "m1=len(X1)#Length of Test data"
   ]
  },
  {
   "cell_type": "code",
   "execution_count": 35,
   "metadata": {},
   "outputs": [],
   "source": [
    "X=np.hstack((np.ones((m,1)),X))#hstack to add colums\n",
    "X1=np.hstack((np.ones((m1,1)),X1))# adding X0 unit which is one for all rows\n",
    "theta=np.zeros((1,X.shape[1]))\n",
    "Lambda=1"
   ]
  },
  {
   "cell_type": "code",
   "execution_count": 36,
   "metadata": {},
   "outputs": [],
   "source": [
    "def CostFunction(theta,X,y):\n",
    " \n",
    "    predictedvalues = X.dot(theta.T)\n",
    "    squarederror = (np.power((predictedvalues- y),2))\n",
    "    Cost = (1/m) *(np.sum(squarederror))\n",
    "    RegCost = Cost + (Lambda/m) *(np.sum(np.power((theta.T),2))) #Regularising the cost function\n",
    "    \n",
    "    #Finding dJ/dtheta and regularising it also\n",
    "    gradient=1/m * (X.transpose()).dot((predictedvalues - y))\n",
    "    grad1=gradient[0]\n",
    "    grad1=np.array(grad1).reshape(len(grad1),1)\n",
    "    grad2= gradient[1:] + (Lambda/m)* (theta.T[1:])\n",
    "    gradient= np.vstack((grad1,grad2)) # vstack to add rows\n",
    "    \n",
    "    return RegCost, gradient"
   ]
  },
  {
   "cell_type": "code",
   "execution_count": 37,
   "metadata": {},
   "outputs": [
    {
     "name": "stdout",
     "output_type": "stream",
     "text": [
      "Initial Cost value is 313.7844923206929\n"
     ]
    }
   ],
   "source": [
    "cost,grad=CostFunction(theta,X,y)\n",
    "print(\"Initial Cost value is {}\".format(cost))#theta is initially zero values  matrix\n",
    "alpha=1\n",
    "iterations=5000\n"
   ]
  },
  {
   "cell_type": "code",
   "execution_count": 38,
   "metadata": {},
   "outputs": [],
   "source": [
    "def GradientDescent(theta,X,y):\n",
    "  \n",
    "    costvalues =np.zeros((iterations,1))#(To store cost values in each iteration)\n",
    "    for i in range(iterations):\n",
    "   \n",
    "        cost,derivative=CostFunction(theta,X,y)# derivative is dJ/dtheta\n",
    "        thetadescent = alpha * (1/m) * derivative.T\n",
    "        theta=theta-thetadescent\n",
    "        costvalues[i]=cost\n",
    "    \n",
    "    return theta,costvalues"
   ]
  },
  {
   "cell_type": "code",
   "execution_count": 39,
   "metadata": {},
   "outputs": [
    {
     "name": "stdout",
     "output_type": "stream",
     "text": [
      "After finding minimum values for theta cost is 43.72724219389181\n"
     ]
    }
   ],
   "source": [
    "theta, costvalues = GradientDescent(theta,X,y)\n",
    "cost,grad=CostFunction(theta,X,y)#theta is minimised using gradient descent\n",
    "print(\"After finding minimum values for theta cost is {}\".format(cost))"
   ]
  },
  {
   "cell_type": "code",
   "execution_count": 40,
   "metadata": {},
   "outputs": [],
   "source": [
    "#Sum of the examples to predict accuracay\n",
    "import math\n",
    "def accuracy(X,Theta,y):\n",
    "    error=np.sum(X.dot(Theta.T))\n",
    "    error1=(1/len(y))*(abs(error-np.sum(y)))\n",
    "   \n",
    "    return error1\n",
    "\n"
   ]
  },
  {
   "cell_type": "code",
   "execution_count": 44,
   "metadata": {},
   "outputs": [
    {
     "name": "stdout",
     "output_type": "stream",
     "text": [
      "Training set Accuarcy is 0.15970050873377484\n",
      "Test set Accuarcy is 0.3132666127484927\n"
     ]
    }
   ],
   "source": [
    "#Training  examples accuracy\n",
    "\n",
    "Accuracy=accuracy(X,theta,y)\n",
    "print(\"Training set Accuarcy is {}\".format(Accuracy))\n",
    "\n",
    "#Test Examples Accuracy\n",
    "\n",
    "Accuracy=accuracy(X1,theta,y1)\n",
    "print(\"Test set Accuarcy is {}\".format(Accuracy))\n",
    "\n",
    "\n",
    "\n"
   ]
  },
  {
   "cell_type": "code",
   "execution_count": 45,
   "metadata": {},
   "outputs": [
    {
     "data": {
      "text/plain": [
       "Text(0.5, 1.0, 'Error vs. No of iterations')"
      ]
     },
     "execution_count": 45,
     "metadata": {},
     "output_type": "execute_result"
    },
    {
     "data": {
      "image/png": "[encoded data removed]",
      "text/plain": [
       "<Figure size 864x576 with 1 Axes>"
      ]
     },
     "metadata": {
      "needs_background": "light"
     },
     "output_type": "display_data"
    }
   ],
   "source": [
    "# plot for Squared error and no of iterations\n",
    "import matplotlib.pyplot as py\n",
    "fig,sub = py.subplots(figsize=(12,8))\n",
    "sub.plot(np.arange(5000),costvalues , 'r')\n",
    "sub.set_xlabel('No of Iterations')\n",
    "sub.set_ylabel('Cost Values ')\n",
    "sub.set_title('Error vs. No of iterations')"
   ]
  },
  {
   "cell_type": "code",
   "execution_count": null,
   "metadata": {},
   "outputs": [],
   "source": []
  }
 ],
 "metadata": {
  "kernelspec": {
   "display_name": "Python 3.8.1 64-bit",
   "language": "python",
   "name": "python38164bit9748098de64f4a3daac392bdbec03b70"
  },
  "language_info": {
   "codemirror_mode": {
    "name": "ipython",
    "version": 3
   },
   "file_extension": ".py",
   "mimetype": "text/x-python",
   "name": "python",
   "nbconvert_exporter": "python",
   "pygments_lexer": "ipython3",
   "version": "3.8.1"
  }
 },
 "nbformat": 4,
 "nbformat_minor": 4
}
